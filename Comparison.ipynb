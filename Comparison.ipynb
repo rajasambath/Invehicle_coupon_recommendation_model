{
 "cells": [
  {
   "cell_type": "code",
   "execution_count": 12,
   "id": "cefebb84",
   "metadata": {},
   "outputs": [
    {
     "name": "stdout",
     "output_type": "stream",
     "text": [
      "(12599, 59) (12599,)\n"
     ]
    }
   ],
   "source": [
    "import pandas as pd\n",
    "import numpy as np\n",
    "from numpy.random import RandomState\n",
    "import matplotlib.pyplot as plt\n",
    "from tqdm import tqdm\n",
    "\n",
    "seed = 42\n",
    "rng = RandomState(seed)\n",
    "\n",
    "df = pd.read_csv('./dataset/preprocessed.csv')\n",
    "\n",
    "X, y = df.iloc[:, :-1], df.iloc[:, -1]\n",
    "print(X.shape, y.shape)"
   ]
  },
  {
   "cell_type": "code",
   "execution_count": 13,
   "id": "7b8f3cb8",
   "metadata": {},
   "outputs": [
    {
     "name": "stdout",
     "output_type": "stream",
     "text": [
      "Train set:  (10079, 59) (10079,)\n",
      "Test set:  (2520, 59) (2520,)\n"
     ]
    }
   ],
   "source": [
    "from sklearn.model_selection import train_test_split, cross_val_score\n",
    "\n",
    "X_train, X_test, y_train, y_test = train_test_split(X, y,\n",
    "                                                    test_size=0.2, \n",
    "                                                    random_state=seed)\n",
    "print('Train set: ', X_train.shape, y_train.shape)\n",
    "print('Test set: ', X_test.shape, y_test.shape)"
   ]
  },
  {
   "cell_type": "code",
   "execution_count": 14,
   "id": "0290cc30",
   "metadata": {},
   "outputs": [],
   "source": [
    "# Fill missing values\n",
    "from sklearn.impute import SimpleImputer\n",
    "\n",
    "imputer = SimpleImputer(strategy='most_frequent')\n",
    "X_train = imputer.fit_transform(X_train)\n",
    "X_test = imputer.transform(X_test)"
   ]
  },
  {
   "cell_type": "code",
   "execution_count": 15,
   "id": "bdea0c6e",
   "metadata": {},
   "outputs": [
    {
     "data": {
      "text/plain": [
       "SVC(C=15.0)"
      ]
     },
     "execution_count": 15,
     "metadata": {},
     "output_type": "execute_result"
    }
   ],
   "source": [
    "# Train Naive Bayes, random forest & SVM with their best params\n",
    "from sklearn.naive_bayes import GaussianNB\n",
    "from sklearn.ensemble import RandomForestClassifier\n",
    "from sklearn.svm import SVC\n",
    "\n",
    "Gmodel=GaussianNB()\n",
    "rf = RandomForestClassifier(criterion='entropy', n_estimators=100, \n",
    "                            random_state=rng)\n",
    "sv = SVC(kernel='rbf', C=15.0)\n",
    "\n",
    "Gmodel.fit(X_train, y_train)\n",
    "rf.fit(X_train, y_train)\n",
    "sv.fit(X_train, y_train)"
   ]
  },
  {
   "cell_type": "code",
   "execution_count": 16,
   "id": "8d5ce818",
   "metadata": {},
   "outputs": [],
   "source": [
    "Gmodel_pred = Gmodel.predict(X_test)\n",
    "rf_pred = rf.predict(X_test)\n",
    "sv_pred = sv.predict(X_test)"
   ]
  },
  {
   "cell_type": "code",
   "execution_count": 17,
   "id": "cf4b923e",
   "metadata": {},
   "outputs": [
    {
     "name": "stdout",
     "output_type": "stream",
     "text": [
      "NB acc: 0.626587\n",
      "Random forest acc: 0.751984\n",
      "SVM acc: 0.747222\n",
      "\n",
      "NB AUC: 0.628155\n",
      "Random forest AUC: 0.742815\n",
      "SVM AUC: 0.737471\n"
     ]
    }
   ],
   "source": [
    "from sklearn.metrics import accuracy_score, roc_auc_score, plot_confusion_matrix\n",
    "\n",
    "Gmodel_acc = accuracy_score(y_test, Gmodel_pred)\n",
    "rf_acc = accuracy_score(y_test, rf_pred)\n",
    "sv_acc = accuracy_score(y_test, sv_pred)\n",
    "\n",
    "Gmodel_auc = roc_auc_score(y_test, Gmodel_pred)\n",
    "rf_auc = roc_auc_score(y_test, rf_pred)\n",
    "sv_auc = roc_auc_score(y_test, sv_pred)\n",
    "\n",
    "print('NB acc: %.6f' % Gmodel_acc)\n",
    "print('Random forest acc: %.6f' % rf_acc)\n",
    "print('SVM acc: %.6f' % sv_acc)\n",
    "print()\n",
    "print('NB AUC: %.6f' % Gmodel_auc)\n",
    "print('Random forest AUC: %.6f' % rf_auc)\n",
    "print('SVM AUC: %.6f' % sv_auc)"
   ]
  },
  {
   "cell_type": "code",
   "execution_count": 18,
   "id": "64b9f56e",
   "metadata": {},
   "outputs": [
    {
     "name": "stderr",
     "output_type": "stream",
     "text": [
      "c:\\users\\administrator\\appdata\\local\\programs\\python\\python37\\lib\\site-packages\\sklearn\\utils\\deprecation.py:87: FutureWarning: Function plot_confusion_matrix is deprecated; Function `plot_confusion_matrix` is deprecated in 1.0 and will be removed in 1.2. Use one of the class methods: ConfusionMatrixDisplay.from_predictions or ConfusionMatrixDisplay.from_estimator.\n",
      "  warnings.warn(msg, category=FutureWarning)\n"
     ]
    },
    {
     "data": {
      "text/plain": [
       "<sklearn.metrics._plot.confusion_matrix.ConfusionMatrixDisplay at 0x2b449774948>"
      ]
     },
     "execution_count": 18,
     "metadata": {},
     "output_type": "execute_result"
    },
    {
     "data": {
      "image/png": "[encoded data removed]",
      "text/plain": [
       "<Figure size 432x288 with 2 Axes>"
      ]
     },
     "metadata": {
      "needs_background": "light"
     },
     "output_type": "display_data"
    }
   ],
   "source": [
    "plot_confusion_matrix(Gmodel, X_test, y_test)"
   ]
  },
  {
   "cell_type": "code",
   "execution_count": 19,
   "id": "0ad5180d",
   "metadata": {},
   "outputs": [
    {
     "name": "stderr",
     "output_type": "stream",
     "text": [
      "c:\\users\\administrator\\appdata\\local\\programs\\python\\python37\\lib\\site-packages\\sklearn\\utils\\deprecation.py:87: FutureWarning: Function plot_confusion_matrix is deprecated; Function `plot_confusion_matrix` is deprecated in 1.0 and will be removed in 1.2. Use one of the class methods: ConfusionMatrixDisplay.from_predictions or ConfusionMatrixDisplay.from_estimator.\n",
      "  warnings.warn(msg, category=FutureWarning)\n"
     ]
    },
    {
     "data": {
      "text/plain": [
       "<sklearn.metrics._plot.confusion_matrix.ConfusionMatrixDisplay at 0x2b449877508>"
      ]
     },
     "execution_count": 19,
     "metadata": {},
     "output_type": "execute_result"
    },
    {
     "data": {
      "image/png": "[encoded data removed]",
      "text/plain": [
       "<Figure size 432x288 with 2 Axes>"
      ]
     },
     "metadata": {
      "needs_background": "light"
     },
     "output_type": "display_data"
    }
   ],
   "source": [
    "plot_confusion_matrix(rf, X_test, y_test)"
   ]
  },
  {
   "cell_type": "code",
   "execution_count": 20,
   "id": "1632d3bc",
   "metadata": {},
   "outputs": [
    {
     "name": "stderr",
     "output_type": "stream",
     "text": [
      "c:\\users\\administrator\\appdata\\local\\programs\\python\\python37\\lib\\site-packages\\sklearn\\utils\\deprecation.py:87: FutureWarning: Function plot_confusion_matrix is deprecated; Function `plot_confusion_matrix` is deprecated in 1.0 and will be removed in 1.2. Use one of the class methods: ConfusionMatrixDisplay.from_predictions or ConfusionMatrixDisplay.from_estimator.\n",
      "  warnings.warn(msg, category=FutureWarning)\n"
     ]
    },
    {
     "data": {
      "text/plain": [
       "<sklearn.metrics._plot.confusion_matrix.ConfusionMatrixDisplay at 0x2b4307f0b88>"
      ]
     },
     "execution_count": 20,
     "metadata": {},
     "output_type": "execute_result"
    },
    {
     "data": {
      "image/png": "[encoded data removed]",
      "text/plain": [
       "<Figure size 432x288 with 2 Axes>"
      ]
     },
     "metadata": {
      "needs_background": "light"
     },
     "output_type": "display_data"
    }
   ],
   "source": [
    "plot_confusion_matrix(sv, X_test, y_test)"
   ]
  },
  {
   "cell_type": "code",
   "execution_count": 21,
   "id": "c4756363",
   "metadata": {},
   "outputs": [],
   "source": [
    "coupon_type = ['Bar', 'Carry out & Take away', 'Coffee House', \n",
    "               'Restaurant(<20)', 'Restaurant(20-50)']\n",
    "datasets = {}\n",
    "for type_name in coupon_type:\n",
    "    column_name = 'coupon_' + type_name\n",
    "    data = df[df[column_name] == 1].copy()\n",
    "    X, y = data.iloc[:, :-1], data.iloc[:, -1]\n",
    "    \n",
    "    # fill missing value\n",
    "    X[:] = imputer.transform(X)\n",
    "    \n",
    "    X = X.drop(columns=['coupon_'+type_name for type_name in coupon_type])\n",
    "    \n",
    "    datasets[type_name] = (X, y)"
   ]
  },
  {
   "cell_type": "code",
   "execution_count": 24,
   "id": "900ac9a9",
   "metadata": {},
   "outputs": [
    {
     "name": "stdout",
     "output_type": "stream",
     "text": [
      "--- NB ---\n",
      "Bar                      : 0.642(0.043)\n",
      "Carry out & Take away    : 0.568(0.048)\n",
      "Coffee House             : 0.574(0.039)\n",
      "Restaurant(<20)          : 0.562(0.030)\n",
      "Restaurant(20-50)        : 0.574(0.022)\n",
      "--- RF ---\n",
      "Bar                      : 0.712(0.029)\n",
      "Carry out & Take away    : 0.627(0.069)\n",
      "Coffee House             : 0.702(0.060)\n",
      "Restaurant(<20)          : 0.518(0.138)\n",
      "Restaurant(20-50)        : 0.588(0.036)\n",
      "--- SVM ---\n",
      "Bar                      : 0.700(0.026)\n",
      "Carry out & Take away    : 0.614(0.055)\n",
      "Coffee House             : 0.691(0.043)\n",
      "Restaurant(<20)          : 0.566(0.063)\n",
      "Restaurant(20-50)        : 0.583(0.012)\n"
     ]
    }
   ],
   "source": [
    "# Cross validation on different type of coupon\n",
    "# to compare with Bayesian rule sets\n",
    "\n",
    "from sklearn.model_selection import cross_val_score\n",
    "from sklearn.impute import SimpleImputer\n",
    "\n",
    "estimators = [\n",
    "    GaussianNB(),\n",
    "    RandomForestClassifier(criterion='entropy', n_estimators=100,\n",
    "                           random_state=rng),\n",
    "    SVC(kernel='rbf', C=15.0)\n",
    "]\n",
    "\n",
    "for name, estimator in zip(['NB', 'RF', 'SVM'], estimators):\n",
    "    print('---', name, '---')\n",
    "    for coupon_type in datasets:\n",
    "        X, y = datasets[coupon_type]\n",
    "        scores = cross_val_score(\n",
    "            estimator, X, y, cv=5, n_jobs=-1, scoring='roc_auc'\n",
    "        )\n",
    "        mean = scores.mean()\n",
    "        std = scores.std()\n",
    "        print('%-25s: %.3f(%.3f)' % (coupon_type, mean, std))"
   ]
  }
 ],
 "metadata": {
  "kernelspec": {
   "display_name": "Python 3 (ipykernel)",
   "language": "python",
   "name": "python3"
  },
  "language_info": {
   "codemirror_mode": {
    "name": "ipython",
    "version": 3
   },
   "file_extension": ".py",
   "mimetype": "text/x-python",
   "name": "python",
   "nbconvert_exporter": "python",
   "pygments_lexer": "ipython3",
   "version": "3.7.7"
  }
 },
 "nbformat": 4,
 "nbformat_minor": 5
}
